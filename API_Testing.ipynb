{
 "cells": [
  {
   "cell_type": "code",
   "execution_count": 7,
   "metadata": {},
   "outputs": [],
   "source": [
    "from googleapiclient import discovery\n",
    "import json\n",
    "\n",
    "with open('api_key.txt', 'r') as file:\n",
    "    API_KEY = file.read().rstrip()"
   ]
  },
  {
   "cell_type": "markdown",
   "metadata": {},
   "source": [
    "## Test Examples Reported in Paper\n",
    "Simple API test on the examples from the \"Deceiving Google’s Perspective API Built for Detecting Toxic Comments\" (Hosseini et al.) paper."
   ]
  },
  {
   "cell_type": "code",
   "execution_count": 8,
   "metadata": {},
   "outputs": [],
   "source": [
    "example_bank = [\n",
    "    (\"Climate change is happening and it's not changing in our favor. If you think differently you're an idiot.\", \n",
    "     \"Climate change is happening and it's not changing in our favor. If you think differently you're an idiiot.\", 0.20),\n",
    "    (\"They're stupid, it's getting warmer, we should enjoy it while it lasts\",\n",
    "     \"They're st.upid, it's getting warmer, we should enjoy it while it lasts\", 0.02),\n",
    "    (\"They are liberal idiots who are uneducated\", \"They are liberal i.diots who are un.educated\",0.15),\n",
    "    (\"idiots. backward thinking people. nationalists. not accepting facts. susceptible to lies.\",\n",
    "     \"idiiots. backward thinking people. nationaalists. not accepting facts. susceptible to l.ies.\",0.17),\n",
    "    (\"They are stupid and ignorant with no class\", \"They are st.upid and ig.norant with no class\",0.11),\n",
    "    (\"It's stupid and wrong\", \"It's stuipd and wrong\",0.17),\n",
    "    (\"If they voted for Hilary they are idiots\", \"If they voted for Hilary they are id.iots\",0.12),\n",
    "    (\"Anyone who voted for Trump is a moron\", \"Anyone who voted for Trump is a mo.ron\",0.13),\n",
    "    (\"Screw you trump supporters\", \"S c r e w you trump supporters\",0.17)\n",
    "]"
   ]
  },
  {
   "cell_type": "code",
   "execution_count": 9,
   "metadata": {},
   "outputs": [
    {
     "name": "stdout",
     "output_type": "stream",
     "text": [
      "Climate change is happening and it's not changing in our favor. If you think differently you're an idiiot. , 0.94992846 , 0.9480856 , 0.2\n",
      "They're st.upid, it's getting warmer, we should enjoy it while it lasts , 0.9156528 , 0.2258658 , 0.02\n",
      "They are liberal i.diots who are un.educated , 0.9688372 , 0.6491768 , 0.15\n",
      "idiiots. backward thinking people. nationaalists. not accepting facts. susceptible to l.ies. , 0.9484063 , 0.94903225 , 0.17\n",
      "They are st.upid and ig.norant with no class , 0.9492851 , 0.36565375 , 0.11\n",
      "It's stuipd and wrong , 0.79610795 , 0.69542736 , 0.17\n",
      "If they voted for Hilary they are id.iots , 0.9506519 , 0.77910686 , 0.12\n",
      "Anyone who voted for Trump is a mo.ron , 0.9590048 , 0.31089434 , 0.13\n",
      "S c r e w you trump supporters , 0.813308 , 0.6364068 , 0.17\n"
     ]
    }
   ],
   "source": [
    "# epsilon is a small score degradation that we feel comfy with\n",
    "# i.e. if the score only drops by this much, the model has still done its job\n",
    "\n",
    "epsilon = 0.15\n",
    "\n",
    "client = discovery.build(\n",
    "  \"commentanalyzer\",\n",
    "  \"v1alpha1\",\n",
    "  developerKey=API_KEY,\n",
    "  discoveryServiceUrl=\"https://commentanalyzer.googleapis.com/$discovery/rest?version=v1alpha1\",\n",
    "  static_discovery=False,\n",
    ")\n",
    "\n",
    "for (normal, typo, old_score) in example_bank:\n",
    "  analyze_request = {\n",
    "    'comment': { 'text': normal },\n",
    "    'requestedAttributes': {'TOXICITY': {}}\n",
    "  }\n",
    "\n",
    "  response = client.comments().analyze(body=analyze_request).execute()\n",
    "  score_normal = response['attributeScores']['TOXICITY']['summaryScore']['value']\n",
    "\n",
    "  analyze_request = {\n",
    "    'comment': { 'text': typo },\n",
    "    'requestedAttributes': {'TOXICITY': {}}\n",
    "  }\n",
    "\n",
    "  response = client.comments().analyze(body=analyze_request).execute()\n",
    "  score_typo = response['attributeScores']['TOXICITY']['summaryScore']['value']\n",
    "  print(str(typo) + ' , ' + str(score_normal) + ' , ' + str(score_typo) + ' , ' + str(old_score))\n"
   ]
  },
  {
   "cell_type": "markdown",
   "metadata": {},
   "source": [
    "### Analysis\n",
    "Clearly, some of the issues with typos have been addressed. Spelling perturbations (i.e. idiot -> idiiot) have less of an effect on toxicity score, which points to a modeling intervention.\n",
    "\n",
    "However, misplaced punctuation and odd spacing is still enough to full the model(!) The score degradation is not as extreme as it was in the original paper, suggesting that they attempted to account for these examples, but it can still be extreme (for example, with \"They're st.upid, it's getting warmer, we should enjoy it while it lasts\", which drops from 0.9156528 to 0.22586566)."
   ]
  },
  {
   "cell_type": "code",
   "execution_count": null,
   "metadata": {},
   "outputs": [],
   "source": []
  }
 ],
 "metadata": {
  "interpreter": {
   "hash": "a4c30e62cc86598b4d0e4d9d3ae67c05bd10d53a2899f1f259fdb6c9b5a74f23"
  },
  "kernelspec": {
   "display_name": "Python 3.8.12 ('perspective')",
   "language": "python",
   "name": "python3"
  },
  "language_info": {
   "codemirror_mode": {
    "name": "ipython",
    "version": 3
   },
   "file_extension": ".py",
   "mimetype": "text/x-python",
   "name": "python",
   "nbconvert_exporter": "python",
   "pygments_lexer": "ipython3",
   "version": "3.8.12"
  },
  "orig_nbformat": 4
 },
 "nbformat": 4,
 "nbformat_minor": 2
}
