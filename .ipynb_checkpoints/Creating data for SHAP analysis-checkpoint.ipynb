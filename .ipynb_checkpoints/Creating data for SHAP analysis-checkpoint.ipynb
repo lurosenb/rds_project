{
 "cells": [
  {
   "cell_type": "code",
   "execution_count": 2,
   "id": "957ac2eb",
   "metadata": {},
   "outputs": [],
   "source": [
    "import glob\n",
    "from auditor import *"
   ]
  },
  {
   "cell_type": "code",
   "execution_count": 3,
   "id": "92eb0938",
   "metadata": {},
   "outputs": [
    {
     "data": {
      "text/plain": [
       "array([ True,  True,  True, ...,  True,  True,  True])"
      ]
     },
     "execution_count": 3,
     "metadata": {},
     "output_type": "execute_result"
    }
   ],
   "source": [
    "pronoun_text = pd.read_csv(\"./Pronoun_data/Pronoun_texts.csv\")\n",
    "\n",
    "pronoun_scores = pd.read_csv(\"./Pronoun_data/Pronoun_toxicity_scores.csv\")\n",
    "pronoun_scores.set_index(\"Unnamed: 0\", inplace=True)\n",
    "\n",
    "#Checking that the indexes align before creating dataset\n",
    "pronoun_scores.index == pronoun_text.index"
   ]
  },
  {
   "cell_type": "code",
   "execution_count": 4,
   "id": "41d113d5",
   "metadata": {},
   "outputs": [
    {
     "data": {
      "text/plain": [
       "1686"
      ]
     },
     "execution_count": 4,
     "metadata": {},
     "output_type": "execute_result"
    }
   ],
   "source": [
    "pronoun_ID = [pronoun_text.index[i] for i in range(len(pronoun_text.index)) if  pronoun_text.index[i]== pronoun_scores.index[i]]\n",
    "len(pronoun_ID)"
   ]
  },
  {
   "cell_type": "code",
   "execution_count": 5,
   "id": "c3e22e73",
   "metadata": {},
   "outputs": [
    {
     "data": {
      "text/plain": [
       "array([ True,  True,  True, ...,  True,  True,  True])"
      ]
     },
     "execution_count": 5,
     "metadata": {},
     "output_type": "execute_result"
    }
   ],
   "source": [
    "proper_noun_text = pd.read_csv(\"./Proper_noun_data/Proper_noun_texts.csv\")\n",
    "\n",
    "proper_noun_scores = pd.read_csv(\"./Proper_noun_data/Proper_noun_toxicity_scores.csv\")\n",
    "\n",
    "#Checking that the indexes align before creating dataset\n",
    "proper_noun_scores.index == proper_noun_text.index"
   ]
  },
  {
   "cell_type": "code",
   "execution_count": 6,
   "id": "8ca27e10",
   "metadata": {},
   "outputs": [
    {
     "data": {
      "text/plain": [
       "1428"
      ]
     },
     "execution_count": 6,
     "metadata": {},
     "output_type": "execute_result"
    }
   ],
   "source": [
    "proper_ID = [proper_noun_text.index[i] for i in range(len(proper_noun_text.index)) if  proper_noun_text.index[i]== proper_noun_scores.index[i]]\n",
    "len(proper_ID)"
   ]
  },
  {
   "cell_type": "code",
   "execution_count": 8,
   "id": "47f48c54",
   "metadata": {},
   "outputs": [
    {
     "data": {
      "text/plain": [
       "(Index(['Unnamed: 0', 'Unnamed: 0.1', 'score', 'Emily_score', 'Greg_score',\n",
       "        'Jamal_score', 'Lakisha_score'],\n",
       "       dtype='object'),\n",
       " Index(['Unnamed: 0', 'Unnamed: 0.1', 'Emily_text', 'Greg_text', 'Jamal_text',\n",
       "        'Lakisha_text', 'score', 'text'],\n",
       "       dtype='object'))"
      ]
     },
     "execution_count": 8,
     "metadata": {},
     "output_type": "execute_result"
    }
   ],
   "source": [
    "proper_noun_scores.columns, proper_noun_text.columns"
   ]
  },
  {
   "cell_type": "code",
   "execution_count": 9,
   "id": "cba552f6",
   "metadata": {},
   "outputs": [
    {
     "name": "stdout",
     "output_type": "stream",
     "text": [
      "['he_text', 'he_score'] (1686, 2)\n",
      "['she_text', 'she_score'] (1686, 2)\n",
      "['they_text', 'they_score'] (1686, 2)\n",
      "['Emily_text', 'Emily_score'] (1428, 2)\n",
      "['Greg_text', 'Greg_score'] (1428, 2)\n",
      "['Jamal_text', 'Jamal_score'] (1428, 2)\n",
      "['Lakisha_text', 'Lakisha_score'] (1428, 2)\n"
     ]
    },
    {
     "data": {
      "text/plain": [
       "(10770, 2)"
      ]
     },
     "execution_count": 9,
     "metadata": {},
     "output_type": "execute_result"
    }
   ],
   "source": [
    "data = pd.DataFrame({\"Text\":[], \"Score\":[]})\n",
    "\n",
    "pronoun_pairs = [['he_text', 'he_score'], ['she_text', 'she_score'], ['they_text', 'they_score']]\n",
    "proper_noun_pairs = [['Emily_text', 'Emily_score'], ['Greg_text', 'Greg_score'], ['Jamal_text', 'Jamal_score'], ['Lakisha_text', 'Lakisha_score']]\n",
    "\n",
    "for i in pronoun_pairs:\n",
    "    temp = pd.DataFrame({\"Text\": pronoun_text[i[0]].values, \"Score\":pronoun_scores[i[1]].values})\n",
    "    data = data.append(temp)\n",
    "    print(i, temp.shape)\n",
    "\n",
    "for i in proper_noun_pairs:\n",
    "    temp = pd.DataFrame({\"Text\": proper_noun_text[i[0]].values, \"Score\":proper_noun_scores[i[1]].values})\n",
    "    data = data.append(temp)\n",
    "    print(i, temp.shape)\n",
    "    \n",
    "data.shape"
   ]
  },
  {
   "cell_type": "code",
   "execution_count": 14,
   "id": "eb29590c",
   "metadata": {},
   "outputs": [],
   "source": [
    "data = data.dropna()"
   ]
  },
  {
   "cell_type": "code",
   "execution_count": 15,
   "id": "5f0dc607",
   "metadata": {},
   "outputs": [],
   "source": [
    "data.to_csv(\"Text_scores_dataset.csv\")"
   ]
  }
 ],
 "metadata": {
  "kernelspec": {
   "display_name": "Python 3 (ipykernel)",
   "language": "python",
   "name": "python3"
  },
  "language_info": {
   "codemirror_mode": {
    "name": "ipython",
    "version": 3
   },
   "file_extension": ".py",
   "mimetype": "text/x-python",
   "name": "python",
   "nbconvert_exporter": "python",
   "pygments_lexer": "ipython3",
   "version": "3.9.7"
  }
 },
 "nbformat": 4,
 "nbformat_minor": 5
}
